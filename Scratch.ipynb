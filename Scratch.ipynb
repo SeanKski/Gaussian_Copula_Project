{
 "cells": [
  {
   "cell_type": "markdown",
   "metadata": {},
   "source": [
    "# Gibbs Sampler MCAR"
   ]
  },
  {
   "cell_type": "markdown",
   "metadata": {},
   "source": [
    "Starting off...\n"
   ]
  },
  {
   "cell_type": "code",
   "execution_count": 1,
   "metadata": {},
   "outputs": [],
   "source": [
    "import numpy as np\n",
    "from scipy import stats\n",
    "from matplotlib import pyplot as plt\n",
    "# Plotting matplot lib in jupyter\n",
    "%matplotlib inline\n",
    "\n",
    "# Having all Jupyter display all output buffer rather than most recent one\n",
    "from IPython.core.interactiveshell import InteractiveShell\n",
    "InteractiveShell.ast_node_interactivity = \"all\""
   ]
  },
  {
   "cell_type": "code",
   "execution_count": 2,
   "metadata": {},
   "outputs": [],
   "source": [
    "beta = 0.05\n",
    "seed = 0\n",
    "filename = 'riboflavinV10.csv'"
   ]
  },
  {
   "cell_type": "code",
   "execution_count": 3,
   "metadata": {},
   "outputs": [],
   "source": [
    "class Gibbs:\n",
    "    def __init__(self, filename, beta=0.05, seed=0):\n",
    "        \"\"\"\n",
    "\n",
    "        :param filename: The name/path of the file from which to read data\n",
    "        :param beta: the probability of missing values\n",
    "        data_obs = the data matrix with nans at missing value points\n",
    "        data_mis = the data matrix with nans at observed value points\n",
    "        data = the data with all true values\n",
    "        \"\"\"\n",
    "        self.seed = seed\n",
    "        self.beta = beta\n",
    "        self.data_true, self.data_obs, self.data_mis, self.r = self.init_data(filename)\n",
    "        self.cov_true, self.corr_true = self.calc_cov_corr(self.data_true)\n",
    "        self.cov_obs, self.corr_obs = self.calc_cov_corr(self.data_obs)\n",
    "        self.z_obs = self.calc_z_obs(self.data_obs)\n",
    "        \n",
    "\n",
    "# TODO: Implement Gibbs sampler lmao\n",
    "\n",
    "    def init_data(self, filename):\n",
    "        \"\"\"\n",
    "        Initalizes data: reads data in, and generates a missing matrix with prop beta and creates a matrix of all\n",
    "        observations without missing data\n",
    "\n",
    "        :param filename: the name of the file which from to read in data\n",
    "        \"\"\"\n",
    "\n",
    "        # reading in data\n",
    "        data_true = np.genfromtxt(filename, delimiter=',', skip_header=1)\n",
    "        if np.all(np.isnan(data_true[:,0])):\n",
    "            data_true = np.delete(data_true, 0, axis=1)  # gets rid of the first column if nan, aka has row titles\n",
    "        data_obs = np.full_like(data_true, np.nan)\n",
    "        data_mis = data_obs.copy()\n",
    "\n",
    "        # generating the missing entries matrix\n",
    "        np.random.seed(self.seed)\n",
    "        observed_matrix = np.random.binomial(1, 1 - self.beta, size=data_true.shape)  # rij = 1 means value is observed\n",
    "\n",
    "        # nan'ing entries in data corresponding to missing matrix\n",
    "        for ij, r in np.ndenumerate(observed_matrix):\n",
    "            if r:\n",
    "                data_obs[ij] = data_true[ij]\n",
    "            else:\n",
    "                data_mis[ij] = data_true[ij]\n",
    "\n",
    "        # # removing any observations which have nan in their samples\n",
    "        # idx = [i for i, v in enumerate(data_obs) if np.any(np.isnan(v))]\n",
    "        # data_obs_nan_rows_removed = np.delete(data_obs, idx, 0) # gets rid of all rows which have nan in them\n",
    "        return data_true, data_obs, data_mis, observed_matrix\n",
    "\n",
    "    def calc_cov_corr(self, data_matrix):\n",
    "        if not np.any(np.isnan(data_matrix)):\n",
    "            cov = np.cov(data_matrix, rowvar=False)\n",
    "        else:\n",
    "            cov = np.full((len(data_matrix[0]), len(data_matrix[0])), np.nan)\n",
    "        corr = self.calc_corr(data_matrix)\n",
    "        return cov, corr\n",
    "\n",
    "    def calc_corr(self, data_matrix):\n",
    "        corr = np.zeros_like(data_matrix)\n",
    "        for j in range(len(data_matrix[0])):\n",
    "            for k in range(len(data_matrix[0])):\n",
    "                corr[j, k] = stats.kendalltau(data_matrix[:, j], data_matrix[:, k], nan_policy='omit')[0]\n",
    "        return corr\n",
    "\n",
    "#     def Gibbs_step_1(self, z_obs, corr_obs):\n",
    "#         c = corr_obs\n",
    "\n",
    "#         for j, col in enumerate(z_obs.T):\n",
    "#             nj = list(range(len(c.T)))\n",
    "#             del nj[j]\n",
    "\n",
    "#             c_nj_nj = c[np.ix_(nj, nj)]\n",
    "#             c_j_nj = c[np.ix_([j], nj)]\n",
    "#             v = np.matmul(c_j_nj, np.linalg.inv(c_nj_nj)).T  # v_T = C[j,-j]*((C[-j,-j])^-1)\n",
    "#             sig_sqd = c[j, j] - np.matmul(v.T, c[np.ix_(nj, [j])])\n",
    "\n",
    "    def calc_z_obs(self, data_obs):\n",
    "        # setting up the empirical cumulative distribution function\n",
    "        z_obs = np.full_like(data_obs, np.nan)\n",
    "        for j in range(len(data_obs[0])):\n",
    "            for i, row in enumerate(data_obs):\n",
    "                top = np.sum( ~np.isnan(row) * (row < row[j]) )  # top = sum(rdj * indicator(ydj < yij))\n",
    "                bot = sum(~np.isnan(row)) + 1  # bot = number_of_obs_x's + 1\n",
    "                if not np.isnan(data_obs[i, j]):\n",
    "                    z_obs[i, j] = stats.norm.ppf(top / bot)  # z_obs[ij] = NormalCDF_inv( top / bot)\n",
    "        return z_obs"
   ]
  },
  {
   "cell_type": "markdown",
   "metadata": {},
   "source": [
    "## Initalizing Data"
   ]
  },
  {
   "cell_type": "code",
   "execution_count": 96,
   "metadata": {},
   "outputs": [
    {
     "data": {
      "text/plain": [
       "array([[ 0.,  1.,  2.,  3.],\n",
       "       [ 4., nan,  6., nan],\n",
       "       [ 8.,  9., 10., 11.],\n",
       "       [12., 13., 14., 15.],\n",
       "       [16., 17., 18., 19.],\n",
       "       [20., 21., 22., 23.],\n",
       "       [24., 25., 26., 27.]])"
      ]
     },
     "execution_count": 96,
     "metadata": {},
     "output_type": "execute_result"
    },
    {
     "data": {
      "text/plain": [
       "array([[0, 1, 2],\n",
       "       [3, 4, 5],\n",
       "       [6, 7, 8]])"
      ]
     },
     "execution_count": 96,
     "metadata": {},
     "output_type": "execute_result"
    },
    {
     "data": {
      "text/plain": [
       "array([[0, 1, 0],\n",
       "       [1, 1, 1],\n",
       "       [0, 1, 1]])"
      ]
     },
     "execution_count": 96,
     "metadata": {},
     "output_type": "execute_result"
    }
   ],
   "source": [
    "data = np.arange(7*4).reshape(7,4)\n",
    "data = data.astype(np.float64)\n",
    "data[1,1] = np.nan\n",
    "data[1,3] = np.nan\n",
    "c = np.arange(3*3).reshape(3,3)\n",
    "np.random.seed(4)\n",
    "r = np.random.binomial(1, 1 - beta, size=(3,3))\n",
    "data\n",
    "c\n",
    "r\n"
   ]
  },
  {
   "cell_type": "code",
   "execution_count": 104,
   "metadata": {},
   "outputs": [
    {
     "data": {
      "text/plain": [
       "array([4., 6.])"
      ]
     },
     "execution_count": 104,
     "metadata": {},
     "output_type": "execute_result"
    }
   ],
   "source": [
    "# for j in range(len(c.T)):\n",
    "#     for i in np.where(r.T[j]==0):\n",
    "# #         c[np.ix_([j],i)]\n",
    "#           i\n",
    "\n",
    "where = np.where(np.isnan(data[1]))\n",
    "np.delete(data[1],where)"
   ]
  },
  {
   "cell_type": "code",
   "execution_count": 6,
   "metadata": {},
   "outputs": [
    {
     "name": "stderr",
     "output_type": "stream",
     "text": [
      "/Users/SeanKulinski/anaconda3/envs/py37/lib/python3.7/site-packages/ipykernel_launcher.py:84: RuntimeWarning: invalid value encountered in less\n"
     ]
    }
   ],
   "source": [
    "g = Gibbs('riboflavinV10.csv', beta=0.1)"
   ]
  },
  {
   "cell_type": "markdown",
   "metadata": {},
   "source": [
    "### Gibbs Step 1"
   ]
  },
  {
   "cell_type": "code",
   "execution_count": 7,
   "metadata": {},
   "outputs": [],
   "source": [
    "# c = g.corr_obs\n",
    "# r = g.r"
   ]
  },
  {
   "cell_type": "code",
   "execution_count": 41,
   "metadata": {},
   "outputs": [
    {
     "ename": "NameError",
     "evalue": "name 'z_obs' is not defined",
     "output_type": "error",
     "traceback": [
      "\u001b[0;31m---------------------------------------------------------------------------\u001b[0m",
      "\u001b[0;31mNameError\u001b[0m                                 Traceback (most recent call last)",
      "\u001b[0;32m<ipython-input-41-3adde3786799>\u001b[0m in \u001b[0;36m<module>\u001b[0;34m\u001b[0m\n\u001b[1;32m     12\u001b[0m     \u001b[0;32mfor\u001b[0m \u001b[0mi\u001b[0m \u001b[0;32min\u001b[0m \u001b[0mr\u001b[0m\u001b[0;34m.\u001b[0m\u001b[0mT\u001b[0m\u001b[0;34m[\u001b[0m\u001b[0mj\u001b[0m\u001b[0;34m]\u001b[0m\u001b[0;34m:\u001b[0m\u001b[0;34m\u001b[0m\u001b[0;34m\u001b[0m\u001b[0m\n\u001b[1;32m     13\u001b[0m         \u001b[0;32mif\u001b[0m \u001b[0;32mnot\u001b[0m \u001b[0mr\u001b[0m\u001b[0;34m[\u001b[0m\u001b[0mi\u001b[0m\u001b[0;34m,\u001b[0m\u001b[0mj\u001b[0m\u001b[0;34m]\u001b[0m\u001b[0;34m:\u001b[0m\u001b[0;34m\u001b[0m\u001b[0;34m\u001b[0m\u001b[0m\n\u001b[0;32m---> 14\u001b[0;31m             \u001b[0mmu\u001b[0m \u001b[0;34m=\u001b[0m \u001b[0mnp\u001b[0m\u001b[0;34m.\u001b[0m\u001b[0mmatmul\u001b[0m\u001b[0;34m(\u001b[0m\u001b[0mz_obs\u001b[0m\u001b[0;34m[\u001b[0m\u001b[0mnp\u001b[0m\u001b[0;34m.\u001b[0m\u001b[0mix_\u001b[0m\u001b[0;34m(\u001b[0m\u001b[0;34m[\u001b[0m\u001b[0mi\u001b[0m\u001b[0;34m]\u001b[0m\u001b[0;34m,\u001b[0m\u001b[0mnj\u001b[0m\u001b[0;34m)\u001b[0m\u001b[0;34m]\u001b[0m\u001b[0;34m,\u001b[0m\u001b[0mv\u001b[0m\u001b[0;34m)\u001b[0m\u001b[0;34m\u001b[0m\u001b[0;34m\u001b[0m\u001b[0m\n\u001b[0m\u001b[1;32m     15\u001b[0m \u001b[0;34m\u001b[0m\u001b[0m\n\u001b[1;32m     16\u001b[0m \u001b[0;34m\u001b[0m\u001b[0m\n",
      "\u001b[0;31mNameError\u001b[0m: name 'z_obs' is not defined"
     ]
    }
   ],
   "source": [
    "\n",
    "\n",
    "for j, col in enumerate(c.T):\n",
    "    nj = list(range(len(c.T)))\n",
    "    del nj[j]\n",
    "    \n",
    "\n",
    "    c_nj_nj = c[np.ix_(nj, nj)]\n",
    "    c_j_nj = c[np.ix_([j], nj)]\n",
    "    v = np.matmul(c_j_nj,np.linalg.inv(c_nj_nj)).T  # v_T = C[j,-j]*((C[-j,-j])^-1)\n",
    "    sig_sqd = c[j,j] - np.matmul(v.T,c[np.ix_(nj,[j])])\n",
    "    \n",
    "#     for i in np.where(r.T[j]==0):\n",
    "    for i in r.T[j]:\n",
    "        if not r[i,j]:\n",
    "            mu = np.matmul(z_obs[np.ix_([i],nj)],v)\n",
    "        \n",
    "        "
   ]
  },
  {
   "cell_type": "code",
   "execution_count": 22,
   "metadata": {},
   "outputs": [
    {
     "data": {
      "text/plain": [
       "8"
      ]
     },
     "execution_count": 22,
     "metadata": {},
     "output_type": "execute_result"
    }
   ],
   "source": [
    "c"
   ]
  },
  {
   "cell_type": "code",
   "execution_count": 28,
   "metadata": {},
   "outputs": [
    {
     "data": {
      "text/plain": [
       "1"
      ]
     },
     "execution_count": 28,
     "metadata": {},
     "output_type": "execute_result"
    }
   ],
   "source": [
    "r"
   ]
  },
  {
   "cell_type": "code",
   "execution_count": 38,
   "metadata": {},
   "outputs": [
    {
     "ename": "ValueError",
     "evalue": "not enough values to unpack (expected 3, got 2)",
     "output_type": "error",
     "traceback": [
      "\u001b[0;31m---------------------------------------------------------------------------\u001b[0m",
      "\u001b[0;31mValueError\u001b[0m                                Traceback (most recent call last)",
      "\u001b[0;32m<ipython-input-38-bdf5071b1f8b>\u001b[0m in \u001b[0;36m<module>\u001b[0;34m\u001b[0m\n\u001b[0;32m----> 1\u001b[0;31m \u001b[0;32mfor\u001b[0m \u001b[0mi\u001b[0m\u001b[0;34m,\u001b[0m \u001b[0mc\u001b[0m\u001b[0;34m,\u001b[0m \u001b[0mr\u001b[0m \u001b[0;32min\u001b[0m \u001b[0menumerate\u001b[0m\u001b[0;34m(\u001b[0m\u001b[0mzip\u001b[0m\u001b[0;34m(\u001b[0m\u001b[0mc\u001b[0m\u001b[0;34m,\u001b[0m\u001b[0mr\u001b[0m\u001b[0;34m)\u001b[0m\u001b[0;34m)\u001b[0m\u001b[0;34m:\u001b[0m\u001b[0;34m\u001b[0m\u001b[0;34m\u001b[0m\u001b[0m\n\u001b[0m\u001b[1;32m      2\u001b[0m     \u001b[0mprint\u001b[0m\u001b[0;34m(\u001b[0m\u001b[0mr\u001b[0m\u001b[0;34m)\u001b[0m\u001b[0;34m\u001b[0m\u001b[0;34m\u001b[0m\u001b[0m\n",
      "\u001b[0;31mValueError\u001b[0m: not enough values to unpack (expected 3, got 2)"
     ]
    }
   ],
   "source": [
    "for i, c, r in enumerate(zip(c,r)):\n",
    "    print(r)"
   ]
  },
  {
   "cell_type": "code",
   "execution_count": 40,
   "metadata": {},
   "outputs": [
    {
     "data": {
      "text/plain": [
       "1.764052345967664"
      ]
     },
     "execution_count": 40,
     "metadata": {},
     "output_type": "execute_result"
    },
    {
     "data": {
      "text/plain": [
       "1.764052345967664"
      ]
     },
     "execution_count": 40,
     "metadata": {},
     "output_type": "execute_result"
    },
    {
     "data": {
      "text/plain": [
       "1.764052345967664"
      ]
     },
     "execution_count": 40,
     "metadata": {},
     "output_type": "execute_result"
    },
    {
     "data": {
      "text/plain": [
       "1.764052345967664"
      ]
     },
     "execution_count": 40,
     "metadata": {},
     "output_type": "execute_result"
    },
    {
     "data": {
      "text/plain": [
       "1.764052345967664"
      ]
     },
     "execution_count": 40,
     "metadata": {},
     "output_type": "execute_result"
    },
    {
     "data": {
      "text/plain": [
       "1.764052345967664"
      ]
     },
     "execution_count": 40,
     "metadata": {},
     "output_type": "execute_result"
    },
    {
     "data": {
      "text/plain": [
       "1.764052345967664"
      ]
     },
     "execution_count": 40,
     "metadata": {},
     "output_type": "execute_result"
    },
    {
     "data": {
      "text/plain": [
       "1.764052345967664"
      ]
     },
     "execution_count": 40,
     "metadata": {},
     "output_type": "execute_result"
    },
    {
     "data": {
      "text/plain": [
       "1.764052345967664"
      ]
     },
     "execution_count": 40,
     "metadata": {},
     "output_type": "execute_result"
    },
    {
     "data": {
      "text/plain": [
       "1.764052345967664"
      ]
     },
     "execution_count": 40,
     "metadata": {},
     "output_type": "execute_result"
    }
   ],
   "source": [
    "for i in range(10):\n",
    "    np.random.seed(0)\n",
    "    np.random.normal()"
   ]
  },
  {
   "cell_type": "code",
   "execution_count": null,
   "metadata": {},
   "outputs": [],
   "source": []
  }
 ],
 "metadata": {
  "kernelspec": {
   "display_name": "Python [conda env:py37]",
   "language": "python",
   "name": "conda-env-py37-py"
  },
  "language_info": {
   "codemirror_mode": {
    "name": "ipython",
    "version": 3
   },
   "file_extension": ".py",
   "mimetype": "text/x-python",
   "name": "python",
   "nbconvert_exporter": "python",
   "pygments_lexer": "ipython3",
   "version": "3.7.4"
  }
 },
 "nbformat": 4,
 "nbformat_minor": 2
}
